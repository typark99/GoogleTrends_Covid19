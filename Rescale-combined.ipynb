{
 "cells": [
  {
   "cell_type": "code",
   "execution_count": 1,
   "metadata": {},
   "outputs": [],
   "source": [
    "OVER_TIME_DIR = 'over_time-99'\n",
    "KEYWORD = 'cdc'\n",
    "DMA_Code = 'US-GA-524'\n",
    "DMA_Str = 'Atlanta GA'"
   ]
  },
  {
   "cell_type": "code",
   "execution_count": 2,
   "metadata": {},
   "outputs": [],
   "source": [
    "import pandas as pd\n",
    "import glob"
   ]
  },
  {
   "cell_type": "code",
   "execution_count": 3,
   "metadata": {},
   "outputs": [
    {
     "data": {
      "text/plain": 
     },
     "execution_count": 3,
     "metadata": {},
     "output_type": "execute_result"
    }
   ],
   "source": [
    "sorted(glob.glob(\"{}/{}/0-{}-*.csv\".format(OVER_TIME_DIR, KEYWORD, DMA_Code)))"
   ]
  },
  {
   "cell_type": "markdown",
   "metadata": {},
   "source": [
    "# Concatenate time-series"
   ]
  },
  {
   "cell_type": "code",
   "execution_count": 4,
   "metadata": {},
   "outputs": [],
   "source": [
    "dfs = []\n",
    "for afile in sorted(glob.glob(\"{}/{}/0-{}-*.csv\".format(OVER_TIME_DIR, KEYWORD, DMA_Code))):\n",
    "    dfs.append(pd.read_csv(afile))"
   ]
  },
  {
   "cell_type": "code",
   "execution_count": 5,
   "metadata": {},
   "outputs": [],
   "source": [
    "pivot = dfs[0]\n",
    "for i in range(1, len(dfs)):\n",
    "    new_df = dfs[i]\n",
    "    pivot_multiplier = 100/pivot.iloc[-1][KEYWORD]\n",
    "    new_multiplier = 100/new_df.iloc[0][KEYWORD]\n",
    "    \n",
    "    pivot.iloc[:,1] = pivot.iloc[:,1] * pivot_multiplier\n",
    "    new_df.iloc[:,1] = new_df.iloc[:,1] * new_multiplier\n",
    "    \n",
    "    pivot = pd.concat([pivot.iloc[:-1,:], new_df])\n",
    "pivot.to_csv(\"merged_{}_{}_{}.csv\".format(KEYWORD, DMA_Code, OVER_TIME_DIR), sep=\",\", index=False)"
   ]
  },
  {
   "cell_type": "code",
   "execution_count": 6,
   "metadata": {},
   "outputs": [],
   "source": [
    "timeline = pivot"
   ]
  },
  {
   "cell_type": "markdown",
   "metadata": {},
   "source": [
    "# Rescale cross-sectional indices"
   ]
  },
  {
   "cell_type": "code",
   "execution_count": 7,
   "metadata": {},
   "outputs": [],
   "source": [
    "for KEYWORD in ['fox news', 'cdc', 'cnn']: # convert dataframe by search volume of KEYWORD\n",
    "    import os\n",
    "    CONVERT_DIR = \"converted-{}\".format(DMA_Code)\n",
    "    try:\n",
    "        os.makedirs(\"{}/combined-{}\".format(CONVERT_DIR, KEYWORD))\n",
    "    except:    \n",
    "        pass\n",
    "\n",
    "    timeline = pd.read_csv(\"merged_{}_{}_{}.csv\".format(KEYWORD, DMA_Code, OVER_TIME_DIR))\n",
    "\n",
    "    for row_index, row in timeline.iterrows():\n",
    "        week_start = row['date']\n",
    "        week_value = row[KEYWORD]\n",
    "\n",
    "        snapshot_file = glob.glob(\"by_region/combined/0-DMA-{}-*.csv\".format(week_start.replace(\"-\", \"\")))[0]\n",
    "        df = pd.read_csv(snapshot_file)\n",
    "        convert_multiplier = float(row[KEYWORD]/df[df['geoName'].str.contains('{}'.format(DMA_Str))][KEYWORD])\n",
    "\n",
    "        df.iloc[:,1:] = df.iloc[:,1:] * convert_multiplier\n",
    "        df.to_csv(\"{}/combined-{}/{}\".format(CONVERT_DIR, KEYWORD, os.path.basename(snapshot_file)))    \n",
    "\n",
    "    "
   ]
  }
 ],
 "metadata": {
  "kernelspec": {
   "display_name": "Python 3",
   "language": "python",
   "name": "python3"
  },
  "language_info": {
   "codemirror_mode": {
    "name": "ipython",
    "version": 3
   },
   "file_extension": ".py",
   "mimetype": "text/x-python",
   "name": "python",
   "nbconvert_exporter": "python",
   "pygments_lexer": "ipython3",
   "version": "3.8.3"
  }
 },
 "nbformat": 4,
 "nbformat_minor": 4
}

